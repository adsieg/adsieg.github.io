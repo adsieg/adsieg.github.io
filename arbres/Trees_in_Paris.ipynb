{
 "cells": [
  {
   "cell_type": "code",
   "execution_count": 2,
   "metadata": {},
   "outputs": [],
   "source": [
    "import pandas as pd\n",
    "import os\n",
    "\n",
    "trees_in_paris = pd.read_csv(\"arbres.csv\",sep =';',error_bad_lines=False)"
   ]
  },
  {
   "cell_type": "code",
   "execution_count": 3,
   "metadata": {},
   "outputs": [
    {
     "data": {
      "text/html": [
       "<div>\n",
       "<style scoped>\n",
       "    .dataframe tbody tr th:only-of-type {\n",
       "        vertical-align: middle;\n",
       "    }\n",
       "\n",
       "    .dataframe tbody tr th {\n",
       "        vertical-align: top;\n",
       "    }\n",
       "\n",
       "    .dataframe thead th {\n",
       "        text-align: right;\n",
       "    }\n",
       "</style>\n",
       "<table border=\"1\" class=\"dataframe\">\n",
       "  <thead>\n",
       "    <tr style=\"text-align: right;\">\n",
       "      <th></th>\n",
       "      <th>IDBASE</th>\n",
       "      <th>TYPEEMPLACEMENT</th>\n",
       "      <th>DOMANIALITE</th>\n",
       "      <th>ARRONDISSEMENT</th>\n",
       "      <th>COMPLEMENTADRESSE</th>\n",
       "      <th>NUMERO</th>\n",
       "      <th>LIEU / ADRESSE</th>\n",
       "      <th>IDEMPLACEMENT</th>\n",
       "      <th>LIBELLEFRANCAIS</th>\n",
       "      <th>GENRE</th>\n",
       "      <th>ESPECE</th>\n",
       "      <th>VARIETEOUCULTIVAR</th>\n",
       "      <th>CIRCONFERENCEENCM</th>\n",
       "      <th>HAUTEUR (m)</th>\n",
       "      <th>STADEDEVELOPPEMENT</th>\n",
       "      <th>REMARQUABLE</th>\n",
       "      <th>geo_point_2d</th>\n",
       "    </tr>\n",
       "  </thead>\n",
       "  <tbody>\n",
       "    <tr>\n",
       "      <th>0</th>\n",
       "      <td>187798.0</td>\n",
       "      <td>Arbre</td>\n",
       "      <td>DASCO</td>\n",
       "      <td>PARIS 16E ARRDT</td>\n",
       "      <td>NaN</td>\n",
       "      <td>NaN</td>\n",
       "      <td>MURAT (162) MAT</td>\n",
       "      <td>06060009</td>\n",
       "      <td>Platane</td>\n",
       "      <td>Platanus</td>\n",
       "      <td>x hispanica</td>\n",
       "      <td>NaN</td>\n",
       "      <td>188.0</td>\n",
       "      <td>16.0</td>\n",
       "      <td>A</td>\n",
       "      <td>0.0</td>\n",
       "      <td>48.8387376412, 2.26456759971</td>\n",
       "    </tr>\n",
       "    <tr>\n",
       "      <th>1</th>\n",
       "      <td>190967.0</td>\n",
       "      <td>Arbre</td>\n",
       "      <td>DASCO</td>\n",
       "      <td>PARIS 13E ARRDT</td>\n",
       "      <td>NaN</td>\n",
       "      <td>NaN</td>\n",
       "      <td>ECOLE ELEMENTAIRE / 64 RUE DUNOIS</td>\n",
       "      <td>108201012</td>\n",
       "      <td>Poirier</td>\n",
       "      <td>Pyrus</td>\n",
       "      <td>n. sp.</td>\n",
       "      <td>NaN</td>\n",
       "      <td>35.0</td>\n",
       "      <td>5.0</td>\n",
       "      <td>A</td>\n",
       "      <td>0.0</td>\n",
       "      <td>48.8332674645, 2.36771662872</td>\n",
       "    </tr>\n",
       "    <tr>\n",
       "      <th>2</th>\n",
       "      <td>197006.0</td>\n",
       "      <td>Arbre</td>\n",
       "      <td>PERIPHERIQUE</td>\n",
       "      <td>PARIS 20E ARRDT</td>\n",
       "      <td>NaN</td>\n",
       "      <td>NaN</td>\n",
       "      <td>TALUS N°30-02</td>\n",
       "      <td>093002002</td>\n",
       "      <td>Marronnier</td>\n",
       "      <td>Aesculus</td>\n",
       "      <td>x carnea</td>\n",
       "      <td>NaN</td>\n",
       "      <td>50.0</td>\n",
       "      <td>5.0</td>\n",
       "      <td>J</td>\n",
       "      <td>0.0</td>\n",
       "      <td>48.8585405151, 2.41450277624</td>\n",
       "    </tr>\n",
       "    <tr>\n",
       "      <th>3</th>\n",
       "      <td>197936.0</td>\n",
       "      <td>Arbre</td>\n",
       "      <td>DJS</td>\n",
       "      <td>PARIS 13E ARRDT</td>\n",
       "      <td>NaN</td>\n",
       "      <td>NaN</td>\n",
       "      <td>TEP DOCTEUR LAURENT / 12 RUE DU DOCTEUR LAURENT</td>\n",
       "      <td>00070013</td>\n",
       "      <td>Robinier</td>\n",
       "      <td>Robinia</td>\n",
       "      <td>pseudoacacia</td>\n",
       "      <td>NaN</td>\n",
       "      <td>115.0</td>\n",
       "      <td>8.0</td>\n",
       "      <td>A</td>\n",
       "      <td>0.0</td>\n",
       "      <td>48.8252829198, 2.35598234101</td>\n",
       "    </tr>\n",
       "    <tr>\n",
       "      <th>4</th>\n",
       "      <td>253644.0</td>\n",
       "      <td>Arbre</td>\n",
       "      <td>Alignement</td>\n",
       "      <td>PARIS 16E ARRDT</td>\n",
       "      <td>NaN</td>\n",
       "      <td>NaN</td>\n",
       "      <td>RUE MICHEL ANGE</td>\n",
       "      <td>000901011</td>\n",
       "      <td>Erable</td>\n",
       "      <td>Acer</td>\n",
       "      <td>platanoides</td>\n",
       "      <td>NaN</td>\n",
       "      <td>60.0</td>\n",
       "      <td>10.0</td>\n",
       "      <td>A</td>\n",
       "      <td>0.0</td>\n",
       "      <td>48.8401858552, 2.25816135331</td>\n",
       "    </tr>\n",
       "  </tbody>\n",
       "</table>\n",
       "</div>"
      ],
      "text/plain": [
       "     IDBASE TYPEEMPLACEMENT   DOMANIALITE   ARRONDISSEMENT COMPLEMENTADRESSE  \\\n",
       "0  187798.0           Arbre         DASCO  PARIS 16E ARRDT               NaN   \n",
       "1  190967.0           Arbre         DASCO  PARIS 13E ARRDT               NaN   \n",
       "2  197006.0           Arbre  PERIPHERIQUE  PARIS 20E ARRDT               NaN   \n",
       "3  197936.0           Arbre           DJS  PARIS 13E ARRDT               NaN   \n",
       "4  253644.0           Arbre    Alignement  PARIS 16E ARRDT               NaN   \n",
       "\n",
       "   NUMERO                                   LIEU / ADRESSE IDEMPLACEMENT  \\\n",
       "0     NaN                                  MURAT (162) MAT      06060009   \n",
       "1     NaN                ECOLE ELEMENTAIRE / 64 RUE DUNOIS     108201012   \n",
       "2     NaN                                    TALUS N°30-02     093002002   \n",
       "3     NaN  TEP DOCTEUR LAURENT / 12 RUE DU DOCTEUR LAURENT      00070013   \n",
       "4     NaN                                  RUE MICHEL ANGE     000901011   \n",
       "\n",
       "  LIBELLEFRANCAIS     GENRE        ESPECE VARIETEOUCULTIVAR  \\\n",
       "0         Platane  Platanus   x hispanica               NaN   \n",
       "1         Poirier     Pyrus        n. sp.               NaN   \n",
       "2      Marronnier  Aesculus      x carnea               NaN   \n",
       "3        Robinier   Robinia  pseudoacacia               NaN   \n",
       "4          Erable      Acer   platanoides               NaN   \n",
       "\n",
       "   CIRCONFERENCEENCM  HAUTEUR (m) STADEDEVELOPPEMENT  REMARQUABLE  \\\n",
       "0              188.0         16.0                  A          0.0   \n",
       "1               35.0          5.0                  A          0.0   \n",
       "2               50.0          5.0                  J          0.0   \n",
       "3              115.0          8.0                  A          0.0   \n",
       "4               60.0         10.0                  A          0.0   \n",
       "\n",
       "                   geo_point_2d  \n",
       "0  48.8387376412, 2.26456759971  \n",
       "1  48.8332674645, 2.36771662872  \n",
       "2  48.8585405151, 2.41450277624  \n",
       "3  48.8252829198, 2.35598234101  \n",
       "4  48.8401858552, 2.25816135331  "
      ]
     },
     "execution_count": 3,
     "metadata": {},
     "output_type": "execute_result"
    }
   ],
   "source": [
    "trees_in_paris.head()"
   ]
  },
  {
   "cell_type": "code",
   "execution_count": null,
   "metadata": {},
   "outputs": [],
   "source": [
    "trees_in_paris['HAUTEUR_Q'] = pd.qcut(trees_in_paris['HAUTEUR (m)'].values, 5)"
   ]
  },
  {
   "cell_type": "code",
   "execution_count": null,
   "metadata": {},
   "outputs": [],
   "source": [
    "trees_hauteur = trees_in_paris[['ARRONDISSEMENT','HAUTEUR_Q']].groupby(['ARRONDISSEMENT','HAUTEUR_Q']).size()"
   ]
  },
  {
   "cell_type": "code",
   "execution_count": null,
   "metadata": {},
   "outputs": [],
   "source": [
    "writer = pd.ExcelWriter('trees_hauteur.xlsx')\n",
    "trees_hauteur.to_excel(writer,'Sheet1')\n",
    "writer.save()"
   ]
  },
  {
   "cell_type": "code",
   "execution_count": null,
   "metadata": {},
   "outputs": [],
   "source": [
    "trees_in_paris[['STADEDEVELOPPEMENT']].drop_duplicates()"
   ]
  },
  {
   "cell_type": "code",
   "execution_count": null,
   "metadata": {},
   "outputs": [],
   "source": [
    "len([384,3510,4442,379,187,584,2083,858,5957,1604,2340,1250,3182,352,2824,56,41,101,121,31,234,332,158,6487,3848])"
   ]
  },
  {
   "cell_type": "code",
   "execution_count": 5,
   "metadata": {},
   "outputs": [
    {
     "data": {
      "text/plain": [
       "ARRONDISSEMENT     TYPEEMPLACEMENT\n",
       "BOIS DE BOULOGNE   Arbre               4089\n",
       "BOIS DE VINCENNES  Arbre              11508\n",
       "HAUTS-DE-SEINE     Arbre               5359\n",
       "PARIS 10E ARRDT    Arbre               3418\n",
       "PARIS 11E ARRDT    Arbre               5709\n",
       "PARIS 12E ARRDT    Arbre              12604\n",
       "PARIS 13E ARRDT    Arbre              16786\n",
       "PARIS 14E ARRDT    Arbre              11913\n",
       "PARIS 15E ARRDT    Arbre              17216\n",
       "PARIS 16E ARRDT    Arbre              16616\n",
       "PARIS 17E ARRDT    Arbre              10758\n",
       "PARIS 18E ARRDT    Arbre               9921\n",
       "PARIS 19E ARRDT    Arbre              13697\n",
       "PARIS 1ER ARRDT    Arbre               1666\n",
       "PARIS 20E ARRDT    Arbre              15429\n",
       "PARIS 2E ARRDT     Arbre                545\n",
       "PARIS 3E ARRDT     Arbre               1197\n",
       "PARIS 4E ARRDT     Arbre               2728\n",
       "PARIS 5E ARRDT     Arbre               2423\n",
       "PARIS 6E ARRDT     Arbre               1778\n",
       "PARIS 7E ARRDT     Arbre               8730\n",
       "PARIS 8E ARRDT     Arbre               7291\n",
       "PARIS 9E ARRDT     Arbre               1183\n",
       "SEINE-SAINT-DENIS  Arbre              11588\n",
       "VAL-DE-MARNE       Arbre               7532\n",
       "dtype: int64"
      ]
     },
     "execution_count": 5,
     "metadata": {},
     "output_type": "execute_result"
    }
   ],
   "source": [
    "trees_in_paris[['ARRONDISSEMENT','TYPEEMPLACEMENT']].groupby(['ARRONDISSEMENT','TYPEEMPLACEMENT']).size()"
   ]
  },
  {
   "cell_type": "code",
   "execution_count": null,
   "metadata": {},
   "outputs": [],
   "source": [
    "writer = pd.ExcelWriter('trees_price.xlsx')\n",
    "trees_price.to_excel(writer,'Sheet1')\n",
    "writer.save()"
   ]
  },
  {
   "cell_type": "code",
   "execution_count": 4,
   "metadata": {},
   "outputs": [
    {
     "data": {
      "text/plain": [
       "TYPEEMPLACEMENT    201684\n",
       "dtype: int64"
      ]
     },
     "execution_count": 4,
     "metadata": {},
     "output_type": "execute_result"
    }
   ],
   "source": [
    "trees_in_paris[['TYPEEMPLACEMENT']].count()"
   ]
  },
  {
   "cell_type": "code",
   "execution_count": null,
   "metadata": {},
   "outputs": [],
   "source": []
  }
 ],
 "metadata": {
  "kernelspec": {
   "display_name": "Python 3",
   "language": "python",
   "name": "python3"
  },
  "language_info": {
   "codemirror_mode": {
    "name": "ipython",
    "version": 3
   },
   "file_extension": ".py",
   "mimetype": "text/x-python",
   "name": "python",
   "nbconvert_exporter": "python",
   "pygments_lexer": "ipython3",
   "version": "3.6.5"
  }
 },
 "nbformat": 4,
 "nbformat_minor": 2
}
